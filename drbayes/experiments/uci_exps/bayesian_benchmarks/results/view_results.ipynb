{
 "cells": [
  {
   "cell_type": "code",
   "execution_count": 1,
   "metadata": {},
   "outputs": [
    {
     "data": {
      "application/javascript": [
       "IPython.OutputArea.auto_scroll_threshold = 9999;\n"
      ],
      "text/plain": [
       "<IPython.core.display.Javascript object>"
      ]
     },
     "metadata": {},
     "output_type": "display_data"
    }
   ],
   "source": [
    "%%javascript\n",
    "IPython.OutputArea.auto_scroll_threshold = 9999;"
   ]
  },
  {
   "cell_type": "code",
   "execution_count": 6,
   "metadata": {},
   "outputs": [],
   "source": [
    "import sys\n",
    "sys.path.append('../../')\n",
    "\n",
    "from matplotlib import pyplot\n",
    "import numpy as np\n",
    "import pandas\n",
    "from matplotlib import pyplot as plt\n",
    "from scipy.stats import rankdata\n",
    "from IPython.display import display, HTML\n",
    "\n",
    "from bayesian_benchmarks.database_utils import Database\n",
    "from bayesian_benchmarks.data import classification_datasets, _ALL_REGRESSION_DATATSETS, _ALL_CLASSIFICATION_DATATSETS\n",
    "ALL_DATATSETS = {}\n",
    "ALL_DATATSETS.update(_ALL_REGRESSION_DATATSETS)\n",
    "ALL_DATATSETS.update(_ALL_CLASSIFICATION_DATATSETS)\n",
    "from bayesian_benchmarks.data import regression_datasets\n"
   ]
  },
  {
   "cell_type": "code",
   "execution_count": 3,
   "metadata": {},
   "outputs": [],
   "source": [
    "def rankarray(A):\n",
    "    ranks = []\n",
    "    for a in A:\n",
    "        ranks.append(rankdata(a))\n",
    "    return np.array(ranks)\n",
    "\n",
    "\n",
    "def read_regression_classification(fs, models_names, datasets, task):\n",
    "    if task == 'classification':\n",
    "        fields = ['dataset', 'N', 'D', 'K'] + [m[1] for m in models_names]\n",
    "    else:\n",
    "        fields = ['dataset', 'N', 'D'] + [m[1] for m in models_names]\n",
    "\n",
    "    results = {}\n",
    "    for f in fs:\n",
    "        results[f] = {'table':{f:[] for f in fields}, 'vals':[]}\n",
    "\n",
    "    with Database('../tasks/elevators_temp.db') as db:\n",
    "\n",
    "        for dataset in datasets:\n",
    "            for f in fs:\n",
    "                results[f]['table']['dataset'].append(dataset[:10])\n",
    "                results[f]['table']['N'].append(ALL_DATATSETS[dataset].N)\n",
    "                results[f]['table']['D'].append(ALL_DATATSETS[dataset].D)\n",
    "                if task == 'classification':\n",
    "                    results[f]['table']['K'].append(ALL_DATATSETS[dataset].K)\n",
    "\n",
    "            row = {f:[] for f in fs}\n",
    "            for model, name in models_names:\n",
    "                res = db.read(task, fs, {'model':model, \n",
    "                                         'dataset':dataset})\n",
    "                    \n",
    "                if len(res) == 0:\n",
    "                    for f in fs:\n",
    "                        results[f]['table'][name].append('')\n",
    "                        row[f].append(np.nan)\n",
    "                else:\n",
    "                    print('{} {} {}'.format(model, dataset, len(res)))\n",
    "                    for i, f in enumerate(fs):\n",
    "                        L = [float(l[i]) for l in res]\n",
    "                        m = np.average(L)\n",
    "                        std = np.std(L) if len(L) > 1 else np.nan\n",
    "                        if m < 1000 and m > -1000:\n",
    "                            r = '{:.3f}({:.3f})'.format(m, std)\n",
    "                            row[f].append(m)\n",
    "                        else:\n",
    "                            r = 'nan'\n",
    "                            row[f].append(np.nan)\n",
    "\n",
    "                        results[f]['table'][name].append(r)\n",
    "\n",
    "            #             stderr = np.std(L)/float(len(L))**0.5\n",
    "            #             r = '{:.3f} ({:.3f})'.format(m, stderr)\n",
    "            for f in fs:   \n",
    "                results[f]['vals'].append(row[f])\n",
    "\n",
    "\n",
    "    for f in fs:\n",
    "        if 'unnormalized' not in f:\n",
    "            vals = np.array(results[f]['vals'])\n",
    "\n",
    "            avgs = np.nanmean(vals, 0)\n",
    "            meds = np.nanmedian(vals, 0)\n",
    "            rks = np.nanmean(rankarray(vals), 0)\n",
    "\n",
    "            for s, n in [[avgs, 'avg'], [meds, 'median'], [rks, 'avg rank']]:\n",
    "                results[f]['table']['dataset'].append(n)\n",
    "                results[f]['table']['N'].append('')\n",
    "                results[f]['table']['D'].append('')\n",
    "                if task == 'classification':\n",
    "                    results[f]['table']['K'].append('')\n",
    "                for ss, name in zip(s, [m[1] for m in models_names]):\n",
    "                    results[f]['table'][name].append('{:.3f}'.format(ss))\n",
    "    \n",
    "    return results, fields\n"
   ]
  },
  {
   "cell_type": "code",
   "execution_count": 4,
   "metadata": {},
   "outputs": [
    {
     "ename": "OperationalError",
     "evalue": "no such table: regression",
     "output_type": "error",
     "traceback": [
      "\u001b[0;31m---------------------------------------------------------------------------\u001b[0m",
      "\u001b[0;31mOperationalError\u001b[0m                          Traceback (most recent call last)",
      "\u001b[0;32m<ipython-input-4-1ff4005d2fb2>\u001b[0m in \u001b[0;36m<module>\u001b[0;34m\u001b[0m\n\u001b[1;32m      4\u001b[0m \u001b[0mfs\u001b[0m \u001b[0;34m=\u001b[0m \u001b[0;34m'test_loglik'\u001b[0m\u001b[0;34m,\u001b[0m \u001b[0;34m'test_rmse'\u001b[0m\u001b[0;34m,\u001b[0m \u001b[0;34m'test_loglik_unnormalized'\u001b[0m\u001b[0;34m,\u001b[0m \u001b[0;34m'test_rmse_unnormalized'\u001b[0m\u001b[0;34m,\u001b[0m \u001b[0;34m'test_calibration'\u001b[0m\u001b[0;34m\u001b[0m\u001b[0;34m\u001b[0m\u001b[0m\n\u001b[1;32m      5\u001b[0m \u001b[0;34m\u001b[0m\u001b[0m\n\u001b[0;32m----> 6\u001b[0;31m \u001b[0mresults\u001b[0m\u001b[0;34m,\u001b[0m \u001b[0mfields\u001b[0m \u001b[0;34m=\u001b[0m \u001b[0mread_regression_classification\u001b[0m\u001b[0;34m(\u001b[0m\u001b[0mfs\u001b[0m\u001b[0;34m,\u001b[0m \u001b[0mmodels_names\u001b[0m\u001b[0;34m,\u001b[0m \u001b[0mregression_datasets\u001b[0m\u001b[0;34m,\u001b[0m \u001b[0;34m'regression'\u001b[0m\u001b[0;34m)\u001b[0m\u001b[0;34m\u001b[0m\u001b[0;34m\u001b[0m\u001b[0m\n\u001b[0m",
      "\u001b[0;32m<ipython-input-3-07c0342b24cb>\u001b[0m in \u001b[0;36mread_regression_classification\u001b[0;34m(fs, models_names, datasets, task)\u001b[0m\n\u001b[1;32m     29\u001b[0m             \u001b[0;32mfor\u001b[0m \u001b[0mmodel\u001b[0m\u001b[0;34m,\u001b[0m \u001b[0mname\u001b[0m \u001b[0;32min\u001b[0m \u001b[0mmodels_names\u001b[0m\u001b[0;34m:\u001b[0m\u001b[0;34m\u001b[0m\u001b[0;34m\u001b[0m\u001b[0m\n\u001b[1;32m     30\u001b[0m                 res = db.read(task, fs, {'model':model, \n\u001b[0;32m---> 31\u001b[0;31m                                          'dataset':dataset})\n\u001b[0m\u001b[1;32m     32\u001b[0m \u001b[0;34m\u001b[0m\u001b[0m\n\u001b[1;32m     33\u001b[0m                 \u001b[0;32mif\u001b[0m \u001b[0mlen\u001b[0m\u001b[0;34m(\u001b[0m\u001b[0mres\u001b[0m\u001b[0;34m)\u001b[0m \u001b[0;34m==\u001b[0m \u001b[0;36m0\u001b[0m\u001b[0;34m:\u001b[0m\u001b[0;34m\u001b[0m\u001b[0;34m\u001b[0m\u001b[0m\n",
      "\u001b[0;32m~/ProbAI/PapersWithCode/improvement/drbayes-master/experiments/uci_exps/bayesian_benchmarks/database_utils.py\u001b[0m in \u001b[0;36mread\u001b[0;34m(self, table_name, fields_to_return, search_dict, limit)\u001b[0m\n\u001b[1;32m     69\u001b[0m         \u001b[0mt\u001b[0m \u001b[0;34m=\u001b[0m \u001b[0;34m' AND '\u001b[0m\u001b[0;34m.\u001b[0m\u001b[0mjoin\u001b[0m\u001b[0;34m(\u001b[0m\u001b[0;34m[\u001b[0m\u001b[0;34m'{}=?'\u001b[0m\u001b[0;34m.\u001b[0m\u001b[0mformat\u001b[0m\u001b[0;34m(\u001b[0m\u001b[0mk\u001b[0m\u001b[0;34m)\u001b[0m \u001b[0;32mfor\u001b[0m \u001b[0mk\u001b[0m \u001b[0;32min\u001b[0m \u001b[0mkeys\u001b[0m\u001b[0;34m]\u001b[0m\u001b[0;34m)\u001b[0m\u001b[0;34m\u001b[0m\u001b[0;34m\u001b[0m\u001b[0m\n\u001b[1;32m     70\u001b[0m         \u001b[0ms\u001b[0m \u001b[0;34m=\u001b[0m \u001b[0;34m\"SELECT {} FROM {} WHERE {}\"\u001b[0m\u001b[0;34m.\u001b[0m\u001b[0mformat\u001b[0m\u001b[0;34m(\u001b[0m\u001b[0;34m', '\u001b[0m\u001b[0;34m.\u001b[0m\u001b[0mjoin\u001b[0m\u001b[0;34m(\u001b[0m\u001b[0mfields_to_return\u001b[0m\u001b[0;34m)\u001b[0m\u001b[0;34m,\u001b[0m \u001b[0mtable_name\u001b[0m\u001b[0;34m,\u001b[0m \u001b[0mt\u001b[0m\u001b[0;34m)\u001b[0m\u001b[0;34m\u001b[0m\u001b[0;34m\u001b[0m\u001b[0m\n\u001b[0;32m---> 71\u001b[0;31m         \u001b[0mself\u001b[0m\u001b[0;34m.\u001b[0m\u001b[0mcursor\u001b[0m\u001b[0;34m.\u001b[0m\u001b[0mexecute\u001b[0m\u001b[0;34m(\u001b[0m\u001b[0ms\u001b[0m\u001b[0;34m,\u001b[0m \u001b[0mvals\u001b[0m\u001b[0;34m)\u001b[0m\u001b[0;34m\u001b[0m\u001b[0;34m\u001b[0m\u001b[0m\n\u001b[0m\u001b[1;32m     72\u001b[0m \u001b[0;34m\u001b[0m\u001b[0m\n\u001b[1;32m     73\u001b[0m         \u001b[0mrows\u001b[0m \u001b[0;34m=\u001b[0m \u001b[0mself\u001b[0m\u001b[0;34m.\u001b[0m\u001b[0mcursor\u001b[0m\u001b[0;34m.\u001b[0m\u001b[0mfetchall\u001b[0m\u001b[0;34m(\u001b[0m\u001b[0;34m)\u001b[0m\u001b[0;34m\u001b[0m\u001b[0;34m\u001b[0m\u001b[0m\n",
      "\u001b[0;31mOperationalError\u001b[0m: no such table: regression"
     ]
    }
   ],
   "source": [
    "models_names = [['RegNet', 'SGD'], ['RegNetpcaess', 'PCA+ESS'], ['RegNetpcavi', 'PCA+VI'], \n",
    "               ['RegNetpcalow_rank_gaussian', 'PCA+SWAG']]\n",
    "regression_datasets = ['wilson_elevators', 'wilson_keggdirected', 'wilson_keggundirected', 'wilson_protein']\n",
    "fs = 'test_loglik', 'test_rmse', 'test_loglik_unnormalized', 'test_rmse_unnormalized', 'test_calibration'\n",
    "\n",
    "results, fields = read_regression_classification(fs, models_names, regression_datasets, 'regression')\n"
   ]
  },
  {
   "cell_type": "code",
   "execution_count": null,
   "metadata": {},
   "outputs": [],
   "source": [
    "print('normalised test loglikelihood')\n",
    "display(HTML(pandas.DataFrame(results['test_loglik']['table'], columns=fields).to_html(index=False)))\n",
    "# print(pandas.DataFrame(results['test_loglik']['table'], columns=fields).to_latex())\n",
    "\n",
    "# print('unnormalized test loglikelihood')\n",
    "# display(HTML(pandas.DataFrame(results['test_loglik_unnormalized']['table'], columns=fields).to_html(index=False)))\n",
    "\n",
    "\n",
    "# print('normalised test rmse')\n",
    "# display(HTML(pandas.DataFrame(results['test_rmse']['table'], columns=fields).to_html(index=False)))\n",
    "\n",
    "print('normalised test rmse')\n",
    "display(HTML(pandas.DataFrame(results['test_rmse_unnormalized']['table'], columns=fields).to_html(index=False)))\n",
    "\n",
    "print('test_calibration')\n",
    "display(HTML(pandas.DataFrame(results['test_calibration']['table'], columns=fields).to_html(index=False)))"
   ]
  },
  {
   "cell_type": "code",
   "execution_count": null,
   "metadata": {},
   "outputs": [],
   "source": [
    "fs = ['test_loglik', 'test_acc']\n",
    "results, fields = read_regression_classification(fs, models_names, classification_datasets, 'classification')\n"
   ]
  },
  {
   "cell_type": "code",
   "execution_count": null,
   "metadata": {},
   "outputs": [],
   "source": [
    "print('test loglikelihood')\n",
    "display(HTML(pandas.DataFrame(results['test_loglik']['table'], columns=fields).to_html(index=False)))\n",
    "# print(pandas.DataFrame(results['test_loglik']['table'], columns=fields).to_latex())\n",
    "\n",
    "print('test accuracy')\n",
    "display(HTML(pandas.DataFrame(results['test_acc']['table'], columns=fields).to_html(index=False)))\n",
    "\n"
   ]
  },
  {
   "cell_type": "code",
   "execution_count": null,
   "metadata": {},
   "outputs": [],
   "source": [
    "# fields = ['dataset', 'N', 'D']\n",
    "\n",
    "                \n",
    "# colours = ['C{}'.format(i) for i in range(10)]\n",
    "\n",
    "# fields = fields + [m[1] for m in models_names]\n",
    "# results = {f:[] for f in fields}\n",
    "\n",
    "\n",
    "# for dataset in regression_datasets:\n",
    "    \n",
    "#     fig, axs = plt.subplots(1, 2, figsize=(10, 5))\n",
    "\n",
    "#     results['dataset'].append(dataset)\n",
    "#     results['N'].append(ALL_REGRESSION_DATATSETS[dataset].N)\n",
    "#     results['D'].append(ALL_REGRESSION_DATATSETS[dataset].D)\n",
    "\n",
    "#     for (model, name), c in zip(models_names, colours):\n",
    "#         with Database('../results/results.db') as db:\n",
    "#             d = {'model':model, 'dataset':dataset}\n",
    "\n",
    "#             res = db.read('active_learning_continuous', ['total_loglik', 'total_rmse'], d) \n",
    "#         if len(res)>0:\n",
    "#             test_ll = res[0][0]\n",
    "#             test_acc = res[0][1]\n",
    "\n",
    "#             axs[0].plot(test_ll, label=model, color=c)r\n",
    "#             axs[1].plot(test_acc, label=model, color=c)\n",
    "#     axs[0].set_ylim(-10, 10)\n",
    "#     plt.title('{} {} {}'.format(dataset,\n",
    "#                                    ALL_REGRESSION_DATATSETS[dataset].N,\n",
    "#                                    ALL_REGRESSION_DATATSETS[dataset].D))\n",
    "#     plt.legend()\n",
    "#     plt.show()\n"
   ]
  },
  {
   "cell_type": "code",
   "execution_count": null,
   "metadata": {},
   "outputs": [],
   "source": [
    "\n",
    "# fields = ['dataset', 'N', 'D', 'K']\n",
    "\n",
    "# models_names = [['linear', 'lin'],\n",
    "#                 ['variationally_sparse_gp', 'SVGP'],\n",
    "#                 ['deep_gp_doubly_stochastic','DGP'],\n",
    "#                 ['svm', 'svm'],\n",
    "#                 ['knn', 'knn'],\n",
    "#                 ['naive_bayes', 'nb'],\n",
    "#                 ['decision_tree', 'dt'],\n",
    "#                 ['random_forest', 'rf'],\n",
    "#                 ['gradient_boosting_machine', 'gbm'],\n",
    "#                 ['adaboost', 'ab'],\n",
    "#                 ['mlp', 'mlp'],\n",
    "#                 ]\n",
    "                \n",
    "# colours = ['C{}'.format(i) for i in range(10)]\n",
    "\n",
    "# fields = fields + [m[1] for m in models_names]\n",
    "# results = {f:[] for f in fields}\n",
    "\n",
    "\n",
    "# for dataset in classification_datasets[:4]:  # don't show them all...\n",
    "    \n",
    "#     fig, axs = plt.subplots(1, 2, figsize=(10, 5))\n",
    "\n",
    "#     results['dataset'].append(dataset)\n",
    "#     results['N'].append(ALL_CLASSIFICATION_DATATSETS[dataset].N)\n",
    "#     results['D'].append(ALL_CLASSIFICATION_DATATSETS[dataset].D)\n",
    "#     results['K'].append(ALL_CLASSIFICATION_DATATSETS[dataset].K)\n",
    "\n",
    "#     for (model, name), c in zip(models_names, colours):\n",
    "#         with Database('../results/results.db') as db:\n",
    "#             d = {'model':model, 'dataset':dataset}\n",
    "\n",
    "#             res = db.read('active_learning_discrete', ['test_loglik', 'total_acc'], d) \n",
    "#         if len(res)>0:\n",
    "#             test_ll = res[0][0]\n",
    "#             test_acc = res[0][1]\n",
    "\n",
    "#             axs[0].plot(test_ll, label=model, color=c)\n",
    "#             axs[1].plot(test_acc, label=model, color=c)\n",
    "\n",
    "#     plt.title('{} {} {} {}'.format(dataset,\n",
    "#                                    ALL_CLASSIFICATION_DATATSETS[dataset].N,\n",
    "#                                    ALL_CLASSIFICATION_DATATSETS[dataset].D,\n",
    "#                                    ALL_CLASSIFICATION_DATATSETS[dataset].K))\n",
    "#     plt.legend()\n",
    "#     plt.show()"
   ]
  },
  {
   "cell_type": "code",
   "execution_count": null,
   "metadata": {},
   "outputs": [],
   "source": []
  }
 ],
 "metadata": {
  "kernelspec": {
   "display_name": "Python 3",
   "language": "python",
   "name": "python3"
  },
  "language_info": {
   "codemirror_mode": {
    "name": "ipython",
    "version": 3
   },
   "file_extension": ".py",
   "mimetype": "text/x-python",
   "name": "python",
   "nbconvert_exporter": "python",
   "pygments_lexer": "ipython3",
   "version": "3.6.9"
  }
 },
 "nbformat": 4,
 "nbformat_minor": 2
}
